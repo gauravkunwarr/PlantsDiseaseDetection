{
 "cells": [
  {
   "cell_type": "markdown",
   "metadata": {},
   "source": [
    "# Matching Networks(Metrics Based Method)"
   ]
  },
  {
   "cell_type": "markdown",
   "metadata": {},
   "source": [
    "##### Step 1: Import all necessary libraries "
   ]
  },
  {
   "cell_type": "code",
   "execution_count": 1,
   "metadata": {},
   "outputs": [
    {
     "name": "stdout",
     "output_type": "stream",
     "text": [
      "Requirement already satisfied: tqdm in /opt/anaconda3/envs/project09/lib/python3.6/site-packages\n",
      "\u001b[33mYou are using pip version 9.0.1, however version 20.0.2 is available.\n",
      "You should consider upgrading via the 'pip install --upgrade pip' command.\u001b[0m\n",
      "Requirement already satisfied: matplotlib in /opt/anaconda3/envs/project09/lib/python3.6/site-packages\n",
      "Requirement already satisfied: numpy>=1.7.1 in /opt/anaconda3/envs/project09/lib/python3.6/site-packages (from matplotlib)\n",
      "Requirement already satisfied: six>=1.10 in /opt/anaconda3/envs/project09/lib/python3.6/site-packages (from matplotlib)\n",
      "Requirement already satisfied: python-dateutil>=2.0 in /opt/anaconda3/envs/project09/lib/python3.6/site-packages (from matplotlib)\n",
      "Requirement already satisfied: pytz in /opt/anaconda3/envs/project09/lib/python3.6/site-packages (from matplotlib)\n",
      "Requirement already satisfied: cycler>=0.10 in /opt/anaconda3/envs/project09/lib/python3.6/site-packages (from matplotlib)\n",
      "Requirement already satisfied: pyparsing!=2.0.4,!=2.1.2,!=2.1.6,>=2.0.1 in /opt/anaconda3/envs/project09/lib/python3.6/site-packages (from matplotlib)\n",
      "\u001b[33mYou are using pip version 9.0.1, however version 20.0.2 is available.\n",
      "You should consider upgrading via the 'pip install --upgrade pip' command.\u001b[0m\n"
     ]
    }
   ],
   "source": [
    "!pip install tqdm\n",
    "!pip install matplotlib"
   ]
  },
  {
   "cell_type": "code",
   "execution_count": 2,
   "metadata": {},
   "outputs": [
    {
     "name": "stderr",
     "output_type": "stream",
     "text": [
      "Using TensorFlow backend.\n"
     ]
    }
   ],
   "source": [
    "import numpy as np\n",
    "import torch\n",
    "import torch.nn as nn\n",
    "import math\n",
    "import numpy as np\n",
    "import torch.nn.functional as F\n",
    "from torch.autograd import Variable\n",
    "import tqdm\n",
    "import torch.backends.cudnn as cudnn\n",
    "from keras.applications.vgg16 import VGG16\n",
    "from torch.optim.lr_scheduler import ReduceLROnPlateau\n",
    "import matplotlib.pyplot as plt\n",
    "%matplotlib inline "
   ]
  },
  {
   "cell_type": "markdown",
   "metadata": {},
   "source": [
    "#### Step 2: We will load omniglot dataset, tranformed in .npy format using helper script.  \n",
    "In helper script, we are just loading data in size format: [total_number,character,28,28].                             \n",
    "for more details, go through helper.py script."
   ]
  },
  {
   "cell_type": "code",
   "execution_count": 3,
   "metadata": {},
   "outputs": [
    {
     "name": "stdout",
     "output_type": "stream",
     "text": [
      "(611, 11, 32, 32, 3)\n"
     ]
    }
   ],
   "source": [
    "x = np.load('./data_32_plant.npy', allow_pickle=True) # Load Data\n",
    "print (x.shape)"
   ]
  },
  {
   "cell_type": "code",
   "execution_count": 4,
   "metadata": {
    "collapsed": true
   },
   "outputs": [],
   "source": [
    "# x = np.reshape(x, newshape=(6,-1,32,32,3)) # expand dimension from (x.shape[0],x.shape[1],28,28)\n",
    "np.random.shuffle(x) # shuffle dataset\n",
    "# x_train, x_val, x_test = x[:500], x[500:], x[500:] # divide dataset in to train, val,ctest\n",
    "x_train, x_val, x_test = x[:110], x[110:], x[110:] # divide dataset in to train, val,ctest\n",
    "batch_size = 16 # setting batch_size\n",
    "n_classes = x.shape[0] # total number of classes\n",
    "classes_per_set = 5 # Number of classes per set\n",
    "samples_per_class = 3 # as we are choosing it to be one shot learning, so we have 1 sample"
   ]
  },
  {
   "cell_type": "code",
   "execution_count": 5,
   "metadata": {},
   "outputs": [
    {
     "name": "stdout",
     "output_type": "stream",
     "text": [
      "(110, 11, 32, 32, 3)\n"
     ]
    }
   ],
   "source": [
    "# certain experiments\n",
    "print (x_train.shape)\n",
    "x_val = x_train"
   ]
  },
  {
   "cell_type": "markdown",
   "metadata": {},
   "source": [
    "##### Preprocess Images: Here we have use normalization method. "
   ]
  },
  {
   "cell_type": "code",
   "execution_count": 6,
   "metadata": {
    "collapsed": true
   },
   "outputs": [],
   "source": [
    "def processes_batch(data, mu, sigma):\n",
    "    return (data - mu) / sigma\n",
    "\n",
    "# Normalize Dataset\n",
    "x_train = processes_batch(x_train, np.mean(x_train), np.std(x_train))\n",
    "x_val = processes_batch(x_val, np.mean(x_val), np.std(x_val))\n",
    "x_test = processes_batch(x_test, np.mean(x_test), np.std(x_test))\n",
    "\n",
    "# Defining dictionary of dataset\n",
    "datatset = {\"train\": x_train, \"val\": x_val, \"test\": x_test}"
   ]
  },
  {
   "cell_type": "markdown",
   "metadata": {},
   "source": [
    "Let's Visualize example of one character written by 20 people."
   ]
  },
  {
   "cell_type": "code",
   "execution_count": 7,
   "metadata": {},
   "outputs": [
    {
     "data": {
      "image/png": "[encoded data removed]",
      "text/plain": [
       "<matplotlib.figure.Figure at 0x1414a08d0>"
      ]
     },
     "metadata": {},
     "output_type": "display_data"
    },
    {
     "data": {
      "image/png": "[encoded data removed]",
      "text/plain": [
       "<matplotlib.figure.Figure at 0x14e28f5f8>"
      ]
     },
     "metadata": {},
     "output_type": "display_data"
    },
    {
     "data": {
      "image/png": "[encoded data removed]",
      "text/plain": [
       "<matplotlib.figure.Figure at 0x14e2d74a8>"
      ]
     },
     "metadata": {},
     "output_type": "display_data"
    },
    {
     "data": {
      "image/png": "[encoded data removed]",
      "text/plain": [
       "<matplotlib.figure.Figure at 0x14e31b198>"
      ]
     },
     "metadata": {},
     "output_type": "display_data"
    },
    {
     "data": {
      "image/png": "[encoded data removed]",
      "text/plain": [
       "<matplotlib.figure.Figure at 0x14e34b048>"
      ]
     },
     "metadata": {},
     "output_type": "display_data"
    },
    {
     "data": {
      "image/png": "[encoded data removed]",
      "text/plain": [
       "<matplotlib.figure.Figure at 0x14e382f28>"
      ]
     },
     "metadata": {},
     "output_type": "display_data"
    },
    {
     "data": {
      "image/png": "[encoded data removed]",
      "text/plain": [
       "<matplotlib.figure.Figure at 0x14e3c2be0>"
      ]
     },
     "metadata": {},
     "output_type": "display_data"
    },
    {
     "data": {
      "image/png": "[encoded data removed]",
      "text/plain": [
       "<matplotlib.figure.Figure at 0x14e4057b8>"
      ]
     },
     "metadata": {},
     "output_type": "display_data"
    },
    {
     "data": {
      "image/png": "[encoded data removed]",
      "text/plain": [
       "<matplotlib.figure.Figure at 0x14e42dbe0>"
      ]
     },
     "metadata": {},
     "output_type": "display_data"
    },
    {
     "data": {
      "image/png": "[encoded data removed]",
      "text/plain": [
       "<matplotlib.figure.Figure at 0x14e4745f8>"
      ]
     },
     "metadata": {},
     "output_type": "display_data"
    }
   ],
   "source": [
    "temp = x_train[0,:,:,:,:]  \n",
    "for i in range(0,10):\n",
    "    plt.figure()\n",
    "    plt.imshow(temp[i,:,:,0])"
   ]
  },
  {
   "cell_type": "markdown",
   "metadata": {},
   "source": [
    "###### Step 3: Training Data Processing\n",
    "To Load Omniglot dataset, and prepare it for Matching Networks Architecture, we need to create:\n",
    "1. Label Set: Variable choose_label \n",
    "2. Support Set: support_set_x, support_set_y\n",
    "3. Batch from Suppport Set Examples\n",
    "\n",
    "Let's first create a batch which can give a support set, and target set."
   ]
  },
  {
   "cell_type": "code",
   "execution_count": 8,
   "metadata": {
    "collapsed": true
   },
   "outputs": [],
   "source": [
    "def sample_batch(data):\n",
    "        \"\"\"\n",
    "        Generates sample batch \n",
    "        :param : data - one of(train,test,val) our current dataset shape [total_classes,20,28,28,1]\n",
    "        :return: [support_set_x,support_set_y,target_x,target_y] for Matching Networks\n",
    "        \"\"\"\n",
    "        support_set_x = np.zeros((batch_size, classes_per_set, samples_per_class, data.shape[2],\n",
    "                                  data.shape[3], data.shape[4]), np.float32)\n",
    "        support_set_y = np.zeros((batch_size, classes_per_set, samples_per_class), np.int32)\n",
    "        \n",
    "        target_x = np.zeros((batch_size, data.shape[2], data.shape[3], data.shape[4]), np.float32)\n",
    "        target_y = np.zeros((batch_size, 1), np.int32)\n",
    "        for i in range(batch_size):\n",
    "            choose_classes = np.random.choice(data.shape[0], size=classes_per_set, replace=False) # choosing random classes\n",
    "            choose_label = np.random.choice(classes_per_set, size=1) # label set\n",
    "            choose_samples = np.random.choice(data.shape[1], size=samples_per_class + 1, replace=False)\n",
    "            x_temp = data[choose_classes] # choosing classes\n",
    "            x_temp = x_temp[:, choose_samples] # choosing sample batch from classes chosen outputs 20X2X28X28X1\n",
    "            y_temp = np.arange(classes_per_set) # will return [0,1,2,3,...,19]\n",
    "            support_set_x[i] = x_temp[:, :-1]\n",
    "            support_set_y[i] = np.expand_dims(y_temp[:], axis=1) # expand dimension\n",
    "            target_x[i] = x_temp[choose_label, -1]\n",
    "            target_y[i] = y_temp[choose_label]\n",
    "        return support_set_x, support_set_y, target_x, target_y # returns support of [batch_size, 20 classes per set, 1 sample, 28, 28,1]\n",
    "    \n",
    "def get_batch(dataset_name):\n",
    "        \"\"\"\n",
    "        gen batch while training\n",
    "        :param dataset_name: The name of dataset(one of \"train\",\"val\",\"test\")\n",
    "        :return: a batch images\n",
    "        \"\"\"\n",
    "        support_set_x, support_set_y, target_x, target_y = sample_batch(datatset[dataset_name])\n",
    "        support_set_x = support_set_x.reshape((support_set_x.shape[0], support_set_x.shape[1] * support_set_x.shape[2],\n",
    "                                               support_set_x.shape[3], support_set_x.shape[4], support_set_x.shape[5]))\n",
    "        support_set_y = support_set_y.reshape(support_set_y.shape[0], support_set_y.shape[1] * support_set_y.shape[2])\n",
    "        return support_set_x, support_set_y, target_x, target_y\n",
    "    "
   ]
  },
  {
   "cell_type": "markdown",
   "metadata": {},
   "source": [
    "If you recall, Matching Networks architecture, you will remember that there are mainly 4 parts of network:\n",
    "1. Embeddings extractor(g)\n",
    "2. Full-Context Embeddings(f)\n",
    "2. Attention Model(a)\n",
    "3. Distance Function(c)\n",
    "\n",
    "\n",
    "\n",
    "so, In this section first we will create a classifier."
   ]
  },
  {
   "cell_type": "markdown",
   "metadata": {},
   "source": [
    "##### Step 4: Create an Embeddings extractor"
   ]
  },
  {
   "cell_type": "code",
   "execution_count": 9,
   "metadata": {
    "collapsed": true
   },
   "outputs": [],
   "source": [
    "transfer = True\n",
    "from torchvision import models\n",
    "import copy\n",
    "def convLayer(in_channels, out_channels, dropout_prob=0.0):\n",
    "    \"\"\"\n",
    "    :param dataset_name: The name of dataset(one of \"train\",\"val\",\"test\")\n",
    "    :return: a batch images\n",
    "    \"\"\"\n",
    "    cnn_seq = nn.Sequential(\n",
    "        nn.Conv2d(in_channels, out_channels, 3, 1, 1),\n",
    "        nn.ReLU(True),\n",
    "        nn.BatchNorm2d(out_channels),\n",
    "        nn.MaxPool2d(kernel_size=2, stride=2),\n",
    "        nn.Dropout(dropout_prob)\n",
    "    )\n",
    "    return cnn_seq\n",
    "\n",
    "class Embeddings_extractor(nn.Module):\n",
    "    def __init__(self, layer_size=64, num_channels=3, dropout_prob=0.5, image_size=224):\n",
    "        super(Embeddings_extractor, self).__init__()\n",
    "        \"\"\"\n",
    "        Build a CNN to produce embeddings\n",
    "        :param layer_size:64(default)\n",
    "        :param num_channels:\n",
    "        :param keep_prob:\n",
    "        :param image_size:\n",
    "        \"\"\"\n",
    "        global vgg\n",
    "        vgg = models.vgg16_bn(pretrained=True)\n",
    "        # Freeze model weights\n",
    "        for param in vgg.parameters():\n",
    "            param.requires_grad = False\n",
    "        self.layer1 = convLayer(num_channels, layer_size, dropout_prob)\n",
    "        self.layer2 = convLayer(layer_size, layer_size, dropout_prob)\n",
    "        self.layer3 = convLayer(layer_size, layer_size, dropout_prob)\n",
    "        self.layer4 = convLayer(layer_size, layer_size, dropout_prob)\n",
    "\n",
    "        finalSize = int(math.floor(image_size / (2 * 2 * 2 * 2)))\n",
    "        if transfer:\n",
    "            self.outSize = 1256\n",
    "        else:\n",
    "            self.outSize = finalSize * finalSize * layer_size\n",
    "#         print (\"self.outsize\", self.outSize)\n",
    "\n",
    "    def forward(self, image_input):\n",
    "        \"\"\"\n",
    "        :param: Image\n",
    "        :return: embeddings\n",
    "        \"\"\"\n",
    "#         print (\"in forward pass\", image_input.shape)\n",
    "        x = self.layer1(image_input)\n",
    "        x = self.layer2(x)\n",
    "        x = self.layer3(x)\n",
    "        x = self.layer4(x)\n",
    "        x = x.reshape(x.shape[0], -1)\n",
    "        if transfer:\n",
    "            x_= copy.deepcopy(image_input)\n",
    "            x_= x_.reshape(len(x_),3,32,32)\n",
    "            train_vgg_bf = vgg(image_input)\n",
    "            b = torch.tensor(train_vgg_bf)\n",
    "#             print (\"b shape before reshapeing\", b.shape)\n",
    "            b = b.reshape(b.shape[0], -1)\n",
    "#             print (\"b shape is\", b.shape)\n",
    "            x = torch.cat([x, b], dim=1)\n",
    "#         print (x.shape)\n",
    "        return x\n"
   ]
  },
  {
   "cell_type": "markdown",
   "metadata": {},
   "source": [
    "##### step 5: Create an Attention model after classifier.\n",
    "a(x,x^)= softmax of cosine similarities"
   ]
  },
  {
   "cell_type": "code",
   "execution_count": 10,
   "metadata": {
    "collapsed": true
   },
   "outputs": [],
   "source": [
    "class AttentionalClassify(nn.Module):\n",
    "    def __init__(self):\n",
    "        super(AttentionalClassify, self).__init__()\n",
    "\n",
    "    def forward(self, similarities, support_set_y):\n",
    "        \"\"\"\n",
    "        Products pdfs over the support set classes for the target set image.\n",
    "        :param similarities: A tensor with cosine similarites of size[batch_size,sequence_length]\n",
    "        :param support_set_y:[batch_size,sequence_length,classes_num]\n",
    "        :return: Softmax pdf shape[batch_size,classes_num]\n",
    "        \"\"\"\n",
    "        softmax = nn.Softmax(dim=1)\n",
    "        softmax_similarities = softmax(similarities)\n",
    "        preds = softmax_similarities.unsqueeze(1).bmm(support_set_y).squeeze()\n",
    "        return preds"
   ]
  },
  {
   "cell_type": "markdown",
   "metadata": {},
   "source": [
    "#### Step 6: Create a Distance Network, which will take output from Test Image, and training embeddings, to calculate the Distance.\n",
    "\n",
    "find cosine similarities between support set and input_test_image"
   ]
  },
  {
   "cell_type": "code",
   "execution_count": 11,
   "metadata": {
    "collapsed": true
   },
   "outputs": [],
   "source": [
    "class DistanceNetwork(nn.Module):\n",
    "    \"\"\"\n",
    "    This model calculates the cosine distance between each of the support set embeddings and \n",
    "    the target image embeddings.\n",
    "    \"\"\"\n",
    "\n",
    "    def __init__(self):\n",
    "        super(DistanceNetwork, self).__init__()\n",
    "\n",
    "    def forward(self, support_set, input_image):\n",
    "        \"\"\"\n",
    "        forward pass\n",
    "        :param support_set:the embeddings of the support set images.shape[sequence_length,batch_size,64]\n",
    "        :param input_image: the embedding of the target image,shape[batch_size,64]\n",
    "        :return:shape[batch_size,sequence_length]\n",
    "        \"\"\"\n",
    "        eps = 1e-10\n",
    "        similarities = []\n",
    "        for support_image in support_set:\n",
    "            sum_support = torch.sum(torch.pow(support_image, 2), 1)\n",
    "            support_manitude = sum_support.clamp(eps, float(\"inf\")).rsqrt()\n",
    "            dot_product = input_image.unsqueeze(1).bmm(support_image.unsqueeze(2)).squeeze()\n",
    "            cosine_similarity = dot_product * support_manitude\n",
    "            similarities.append(cosine_similarity)\n",
    "        similarities = torch.stack(similarities)\n",
    "        return similarities.t()"
   ]
  },
  {
   "cell_type": "markdown",
   "metadata": {},
   "source": [
    "##### Step 7:  Create a Bi-directional LSTM, which is taking input and output from Test-image, and put them in same embeddings space.  \n",
    "If we wish to use full-context embeddings, Matching Networks introduced Bi-directional LSTM for it."
   ]
  },
  {
   "cell_type": "code",
   "execution_count": 12,
   "metadata": {
    "collapsed": true
   },
   "outputs": [],
   "source": [
    "class BidirectionalLSTM(nn.Module):\n",
    "    def __init__(self, layer_size, batch_size, vector_dim):\n",
    "        super(BidirectionalLSTM, self).__init__()\n",
    "        \"\"\"\n",
    "        Initial a muti-layer Bidirectional LSTM\n",
    "        :param layer_size: a list of each layer'size\n",
    "        :param batch_size: \n",
    "        :param vector_dim: \n",
    "        \"\"\"\n",
    "        self.batch_size = batch_size\n",
    "        self.hidden_size = layer_size[0]\n",
    "        self.vector_dim = vector_dim\n",
    "        self.num_layer = len(layer_size)\n",
    "        self.lstm = nn.LSTM(input_size=self.vector_dim, num_layers=self.num_layer, hidden_size=self.hidden_size,\n",
    "                            bidirectional=True)\n",
    "        self.hidden = (Variable(torch.zeros(self.lstm.num_layers * 2, self.batch_size, self.lstm.hidden_size),requires_grad=False),\n",
    "                Variable(torch.zeros(self.lstm.num_layers * 2, self.batch_size, self.lstm.hidden_size),requires_grad=False))\n",
    "\n",
    "    def repackage_hidden(self,h):\n",
    "        \"\"\"Wraps hidden states in new Variables, \n",
    "        to detach them from their history.\"\"\"\n",
    "        if type(h) == torch.Tensor:\n",
    "            return Variable(h.data)\n",
    "        else:\n",
    "            return tuple(self.repackage_hidden(v) for v in h)\n",
    "        \n",
    "    def forward(self, inputs):\n",
    "        self.hidden = self.repackage_hidden(self.hidden)\n",
    "        output, self.hidden = self.lstm(inputs, self.hidden)\n",
    "        return output\n",
    "    "
   ]
  },
  {
   "cell_type": "markdown",
   "metadata": {},
   "source": [
    "##### Step 8: Let's club all small modules we made, and create a matching network. "
   ]
  },
  {
   "cell_type": "code",
   "execution_count": 13,
   "metadata": {
    "collapsed": true
   },
   "outputs": [],
   "source": [
    "from sklearn.metrics import f1_score\n",
    "class MatchingNetwork(nn.Module):\n",
    "    def __init__(self, keep_prob, batch_size=32, num_channels=3, learning_rate=1e-3, fce=False, num_classes_per_set=20, \\\n",
    "                 num_samples_per_class=1, image_size=32):\n",
    "        \"\"\"\n",
    "        Matching Network\n",
    "        :param keep_prob: dropout rate\n",
    "        :param batch_size:\n",
    "        :param num_channels:\n",
    "        :param learning_rate:\n",
    "        :param fce: Flag indicating whether to use full context embeddings(i.e. apply an LSTM on the CNN embeddings)\n",
    "        :param num_classes_per_set:\n",
    "        :param num_samples_per_class:\n",
    "        :param image_size:\n",
    "        \"\"\"\n",
    "        super(MatchingNetwork, self).__init__()\n",
    "        self.batch_size = batch_size\n",
    "        self.keep_prob = keep_prob\n",
    "        self.num_channels = num_channels\n",
    "        self.learning_rate = learning_rate\n",
    "        self.num_classes_per_set = num_classes_per_set\n",
    "        self.num_samples_per_class = num_samples_per_class\n",
    "        self.image_size = image_size\n",
    "        # Let's set all peices of Matching Networks Architecture\n",
    "        self.g = Embeddings_extractor(layer_size=64, num_channels=num_channels, dropout_prob=keep_prob, image_size=image_size)\n",
    "        self.f = fce # if we are considering full-context embeddings\n",
    "        self.c = DistanceNetwork() # cosine distance among embeddings\n",
    "        self.a = AttentionalClassify() # softmax of cosine distance of embeddings\n",
    "        # if self.f:\n",
    "        self.lstm = BidirectionalLSTM(layer_size=[32], batch_size=self.batch_size, vector_dim=self.g.outSize)\n",
    "\n",
    "    def forward(self, support_set_images, support_set_y_one_hot, target_image, target_y):\n",
    "        \"\"\"\n",
    "        Main process of the network\n",
    "        :param support_set_images: shape[batch_size,sequence_length,num_channels,image_size,image_size]\n",
    "        :param support_set_y_one_hot: shape[batch_size,sequence_length,num_classes_per_set]\n",
    "        :param target_image: shape[batch_size,num_channels,image_size,image_size]\n",
    "        :param target_y:\n",
    "        :return:\n",
    "        \"\"\"\n",
    "        # produce embeddings for support set images\n",
    "        encoded_images = []\n",
    "        for i in np.arange(support_set_images.size(1)):\n",
    "            gen_encode = self.g(support_set_images[:, i, :, :])\n",
    "            encoded_images.append(gen_encode)\n",
    "#         print (\"encoded images generated\", len(encoded_images))\n",
    "        # produce embeddings for target images\n",
    "        gen_encode = self.g(target_image)\n",
    "        encoded_images.append(gen_encode)\n",
    "        output = torch.stack(encoded_images,dim=0)\n",
    "        \n",
    "        # if we are considering full-context embeddings\n",
    "        if self.f:\n",
    "            output = self.lstm(output)\n",
    "            \n",
    "        # get similarities between support set embeddings and target\n",
    "        similarites = self.c(support_set=output[:-1], input_image=output[-1])\n",
    "        \n",
    "        # produce predictions for target probabilities\n",
    "        preds = self.a(similarites, support_set_y=support_set_y_one_hot)\n",
    "        \n",
    "        # calculate the accuracy\n",
    "        values, indices = preds.max(1)\n",
    "        accuracy = torch.mean((indices.squeeze() == target_y).float())\n",
    "        F1_score = f1_score(indices.squeeze().data.numpy(), target_y.data.numpy(), average='macro')\n",
    "        crossentropy_loss = F.cross_entropy(preds, target_y.long())\n",
    "\n",
    "        return accuracy, crossentropy_loss, F1_score"
   ]
  },
  {
   "cell_type": "markdown",
   "metadata": {},
   "source": [
    "#### Step 9: Create a Dataset Loader.\n",
    "For our case, as we are using Omniglot Dataset,it will create a Omnligloat builder which calls Matching Network, and run its epochs for training, testing, and validation purpose."
   ]
  },
  {
   "cell_type": "code",
   "execution_count": 14,
   "metadata": {
    "collapsed": true
   },
   "outputs": [],
   "source": [
    "def run_epoch(total_train_batches, name='train'):\n",
    "    \"\"\"\n",
    "    Run the training epoch\n",
    "    :param total_train_batches: Number of batches to train on\n",
    "    :return:\n",
    "    \"\"\"\n",
    "    total_c_loss = 0.0\n",
    "    total_accuracy = 0.0\n",
    "    t_f1_Score = 0.0\n",
    "    for i in range(int(total_train_batches)):\n",
    "            x_support_set, y_support_set, x_target, y_target = get_batch(name)\n",
    "            x_support_set = Variable(torch.from_numpy(x_support_set)).float()\n",
    "            y_support_set = Variable(torch.from_numpy(y_support_set), requires_grad=False).long()\n",
    "            x_target = Variable(torch.from_numpy(x_target)).float()\n",
    "            y_target = Variable(torch.from_numpy(y_target), requires_grad=False).squeeze().long()\n",
    "\n",
    "            # convert to one hot encoding\n",
    "            y_support_set = y_support_set.unsqueeze(2)\n",
    "            sequence_length = y_support_set.size()[1]\n",
    "            batch_size = y_support_set.size()[0]\n",
    "            y_support_set_one_hot = Variable(\n",
    "                torch.zeros(batch_size, sequence_length, \n",
    "                            classes_per_set).scatter_(2,y_support_set.data,1), requires_grad=False)\n",
    "\n",
    "            # reshape channels and change order\n",
    "            size = x_support_set.size()\n",
    "            x_support_set = x_support_set.permute(0, 1, 4, 2, 3)\n",
    "            x_target = x_target.permute(0, 3, 1, 2)\n",
    "            acc, c_loss, f1_Score = matchNet(x_support_set, y_support_set_one_hot, x_target, y_target)\n",
    "\n",
    "            # optimize process\n",
    "            optimizer.zero_grad()\n",
    "            c_loss.backward()\n",
    "            optimizer.step()\n",
    "\n",
    "            iter_out = \"tr_loss: {}, tr_accuracy: {}\".format(c_loss, acc)\n",
    "            total_c_loss += c_loss\n",
    "            total_accuracy += acc\n",
    "            t_f1_Score += f1_Score\n",
    "\n",
    "    total_c_loss = total_c_loss / total_train_batches\n",
    "    total_accuracy = total_accuracy / total_train_batches\n",
    "    t_f1_Score = t_f1_Score / total_train_batches\n",
    "    return total_c_loss, total_accuracy, t_f1_Score"
   ]
  },
  {
   "cell_type": "markdown",
   "metadata": {},
   "source": [
    "###### Set-up Experiments variables."
   ]
  },
  {
   "cell_type": "code",
   "execution_count": null,
   "metadata": {
    "collapsed": true
   },
   "outputs": [],
   "source": [
    "batch_size=8\n",
    "num_channels=3\n",
    "lr=1e-3\n",
    "image_size=32 #28\n",
    "classes_per_set=5\n",
    "samples_per_class=5\n",
    "keep_prob=0.0\n",
    "fce=True\n",
    "optim=\"adam\"\n",
    "wd=0\n",
    "matchNet = MatchingNetwork(keep_prob, batch_size, num_channels, lr, fce, classes_per_set,\n",
    "                                samples_per_class, image_size)\n",
    "total_iter = 10\n",
    "total_train_iter = 10\n",
    "optimizer = torch.optim.Adam(matchNet.parameters(), lr=lr, weight_decay=wd)\n",
    "scheduler = ReduceLROnPlateau(optimizer, 'min',verbose=True,patience=10)\n",
    "# Training setup\n",
    "total_epochs = 200\n",
    "total_train_batches = 50\n",
    "total_val_batches = 25\n",
    "total_test_batches = 25"
   ]
  },
  {
   "cell_type": "markdown",
   "metadata": {},
   "source": [
    "##### Let's Run Experiments !!!!! "
   ]
  },
  {
   "cell_type": "code",
   "execution_count": null,
   "metadata": {},
   "outputs": [
    {
     "name": "stderr",
     "output_type": "stream",
     "text": [
      "/opt/anaconda3/envs/project09/lib/python3.6/site-packages/ipykernel_launcher.py:60: UserWarning: To copy construct from a tensor, it is recommended to use sourceTensor.clone().detach() or sourceTensor.clone().detach().requires_grad_(True), rather than torch.tensor(sourceTensor).\n",
      "/opt/anaconda3/envs/project09/lib/python3.6/site-packages/sklearn/metrics/classification.py:1135: UndefinedMetricWarning: F-score is ill-defined and being set to 0.0 in labels with no predicted samples.\n",
      "  'precision', 'predicted', average, warn_for)\n",
      "/opt/anaconda3/envs/project09/lib/python3.6/site-packages/sklearn/metrics/classification.py:1137: UndefinedMetricWarning: F-score is ill-defined and being set to 0.0 in labels with no true samples.\n",
      "  'recall', 'true', average, warn_for)\n"
     ]
    },
    {
     "name": "stdout",
     "output_type": "stream",
     "text": [
      "Epoch 0: train_loss:1.60 train_accuracy:0.23 valid_loss:1.60 valid_accuracy:0.19 f1_train:0.16 f1_val:0.14 \n",
      "Epoch 1: train_loss:1.60 train_accuracy:0.26 valid_loss:1.59 valid_accuracy:0.31 f1_train:0.21 f1_val:0.24 \n",
      "Epoch 2: train_loss:1.58 train_accuracy:0.31 valid_loss:1.57 valid_accuracy:0.36 f1_train:0.24 f1_val:0.27 \n",
      "Epoch 3: train_loss:1.57 train_accuracy:0.34 valid_loss:1.54 valid_accuracy:0.43 f1_train:0.27 f1_val:0.34 \n",
      "Epoch 4: train_loss:1.53 train_accuracy:0.40 valid_loss:1.54 valid_accuracy:0.41 f1_train:0.33 f1_val:0.33 \n",
      "Epoch 5: train_loss:1.53 train_accuracy:0.41 valid_loss:1.53 valid_accuracy:0.40 f1_train:0.30 f1_val:0.31 \n",
      "Epoch 6: train_loss:1.50 train_accuracy:0.47 valid_loss:1.51 valid_accuracy:0.43 f1_train:0.38 f1_val:0.34 \n",
      "Epoch 7: train_loss:1.49 train_accuracy:0.49 valid_loss:1.50 valid_accuracy:0.43 f1_train:0.41 f1_val:0.35 \n",
      "Epoch 8: train_loss:1.49 train_accuracy:0.47 valid_loss:1.50 valid_accuracy:0.46 f1_train:0.40 f1_val:0.34 \n",
      "Epoch 9: train_loss:1.48 train_accuracy:0.46 valid_loss:1.46 valid_accuracy:0.50 f1_train:0.39 f1_val:0.42 \n",
      "Epoch 10: train_loss:1.47 train_accuracy:0.49 valid_loss:1.44 valid_accuracy:0.52 f1_train:0.40 f1_val:0.47 \n",
      "Epoch 11: train_loss:1.45 train_accuracy:0.53 valid_loss:1.46 valid_accuracy:0.49 f1_train:0.44 f1_val:0.41 \n",
      "Epoch 12: train_loss:1.47 train_accuracy:0.46 valid_loss:1.43 valid_accuracy:0.51 f1_train:0.37 f1_val:0.44 \n",
      "Epoch 13: train_loss:1.45 train_accuracy:0.46 valid_loss:1.46 valid_accuracy:0.50 f1_train:0.35 f1_val:0.43 \n",
      "Epoch 14: train_loss:1.45 train_accuracy:0.51 valid_loss:1.44 valid_accuracy:0.55 f1_train:0.43 f1_val:0.45 \n",
      "Epoch 15: train_loss:1.44 train_accuracy:0.50 valid_loss:1.44 valid_accuracy:0.53 f1_train:0.42 f1_val:0.43 \n",
      "Epoch 16: train_loss:1.42 train_accuracy:0.54 valid_loss:1.42 valid_accuracy:0.52 f1_train:0.43 f1_val:0.44 \n",
      "Epoch 17: train_loss:1.41 train_accuracy:0.52 valid_loss:1.46 valid_accuracy:0.41 f1_train:0.43 f1_val:0.32 \n",
      "Epoch 18: train_loss:1.41 train_accuracy:0.58 valid_loss:1.41 valid_accuracy:0.52 f1_train:0.51 f1_val:0.45 \n",
      "Epoch 19: train_loss:1.42 train_accuracy:0.51 valid_loss:1.39 valid_accuracy:0.58 f1_train:0.41 f1_val:0.51 \n",
      "Epoch 20: train_loss:1.39 train_accuracy:0.54 valid_loss:1.39 valid_accuracy:0.58 f1_train:0.45 f1_val:0.49 \n",
      "Epoch 21: train_loss:1.40 train_accuracy:0.55 valid_loss:1.43 valid_accuracy:0.50 f1_train:0.47 f1_val:0.42 \n",
      "Epoch 22: train_loss:1.39 train_accuracy:0.56 valid_loss:1.39 valid_accuracy:0.58 f1_train:0.46 f1_val:0.48 \n",
      "Epoch 23: train_loss:1.40 train_accuracy:0.55 valid_loss:1.39 valid_accuracy:0.57 f1_train:0.44 f1_val:0.48 \n",
      "Epoch 24: train_loss:1.40 train_accuracy:0.56 valid_loss:1.39 valid_accuracy:0.56 f1_train:0.47 f1_val:0.47 \n",
      "Epoch 25: train_loss:1.37 train_accuracy:0.57 valid_loss:1.36 valid_accuracy:0.60 f1_train:0.48 f1_val:0.51 \n",
      "Epoch 26: train_loss:1.39 train_accuracy:0.57 valid_loss:1.39 valid_accuracy:0.58 f1_train:0.47 f1_val:0.54 \n",
      "Epoch 27: train_loss:1.39 train_accuracy:0.54 valid_loss:1.39 valid_accuracy:0.60 f1_train:0.46 f1_val:0.52 \n",
      "Epoch 28: train_loss:1.36 train_accuracy:0.58 valid_loss:1.34 valid_accuracy:0.64 f1_train:0.52 f1_val:0.50 \n",
      "Epoch 29: train_loss:1.37 train_accuracy:0.57 valid_loss:1.38 valid_accuracy:0.58 f1_train:0.48 f1_val:0.48 \n",
      "Epoch 30: train_loss:1.35 train_accuracy:0.60 valid_loss:1.36 valid_accuracy:0.56 f1_train:0.50 f1_val:0.47 \n",
      "Epoch 31: train_loss:1.35 train_accuracy:0.63 valid_loss:1.34 valid_accuracy:0.65 f1_train:0.55 f1_val:0.58 \n",
      "Epoch 32: train_loss:1.33 train_accuracy:0.64 valid_loss:1.32 valid_accuracy:0.65 f1_train:0.55 f1_val:0.58 \n",
      "Epoch 33: train_loss:1.34 train_accuracy:0.62 valid_loss:1.36 valid_accuracy:0.60 f1_train:0.54 f1_val:0.52 \n",
      "Epoch 34: train_loss:1.33 train_accuracy:0.64 valid_loss:1.33 valid_accuracy:0.62 f1_train:0.58 f1_val:0.52 \n",
      "Epoch 35: train_loss:1.34 train_accuracy:0.62 valid_loss:1.35 valid_accuracy:0.61 f1_train:0.53 f1_val:0.53 \n",
      "Epoch 36: train_loss:1.35 train_accuracy:0.62 valid_loss:1.33 valid_accuracy:0.62 f1_train:0.50 f1_val:0.52 \n",
      "Epoch 37: train_loss:1.32 train_accuracy:0.64 valid_loss:1.32 valid_accuracy:0.62 f1_train:0.53 f1_val:0.53 \n",
      "Epoch 38: train_loss:1.34 train_accuracy:0.62 valid_loss:1.32 valid_accuracy:0.65 f1_train:0.52 f1_val:0.55 \n",
      "Epoch 39: train_loss:1.32 train_accuracy:0.65 valid_loss:1.31 valid_accuracy:0.63 f1_train:0.58 f1_val:0.58 \n",
      "Epoch 40: train_loss:1.32 train_accuracy:0.64 valid_loss:1.29 valid_accuracy:0.64 f1_train:0.56 f1_val:0.54 \n",
      "Epoch 41: train_loss:1.30 train_accuracy:0.67 valid_loss:1.32 valid_accuracy:0.65 f1_train:0.57 f1_val:0.54 \n",
      "Epoch 42: train_loss:1.28 train_accuracy:0.68 valid_loss:1.32 valid_accuracy:0.67 f1_train:0.60 f1_val:0.61 \n",
      "Epoch 43: train_loss:1.29 train_accuracy:0.69 valid_loss:1.28 valid_accuracy:0.67 f1_train:0.60 f1_val:0.58 \n",
      "Epoch 44: train_loss:1.30 train_accuracy:0.63 valid_loss:1.31 valid_accuracy:0.60 f1_train:0.53 f1_val:0.52 \n",
      "Epoch 45: train_loss:1.29 train_accuracy:0.67 valid_loss:1.33 valid_accuracy:0.63 f1_train:0.60 f1_val:0.53 \n",
      "Epoch 46: train_loss:1.30 train_accuracy:0.69 valid_loss:1.31 valid_accuracy:0.60 f1_train:0.61 f1_val:0.50 \n",
      "Epoch 47: train_loss:1.29 train_accuracy:0.67 valid_loss:1.30 valid_accuracy:0.62 f1_train:0.59 f1_val:0.49 \n",
      "Epoch 48: train_loss:1.30 train_accuracy:0.64 valid_loss:1.29 valid_accuracy:0.67 f1_train:0.55 f1_val:0.57 \n",
      "Epoch 49: train_loss:1.30 train_accuracy:0.64 valid_loss:1.29 valid_accuracy:0.65 f1_train:0.55 f1_val:0.58 \n",
      "Epoch 50: train_loss:1.29 train_accuracy:0.64 valid_loss:1.29 valid_accuracy:0.64 f1_train:0.55 f1_val:0.56 \n",
      "Epoch 51: train_loss:1.31 train_accuracy:0.64 valid_loss:1.28 valid_accuracy:0.69 f1_train:0.56 f1_val:0.59 \n",
      "Epoch 52: train_loss:1.28 train_accuracy:0.68 valid_loss:1.29 valid_accuracy:0.65 f1_train:0.57 f1_val:0.57 \n",
      "Epoch 53: train_loss:1.29 train_accuracy:0.67 valid_loss:1.31 valid_accuracy:0.65 f1_train:0.56 f1_val:0.59 \n",
      "Epoch 54: train_loss:1.30 train_accuracy:0.62 valid_loss:1.31 valid_accuracy:0.62 f1_train:0.53 f1_val:0.53 \n",
      "Epoch 55: train_loss:1.29 train_accuracy:0.68 valid_loss:1.30 valid_accuracy:0.66 f1_train:0.58 f1_val:0.57 \n",
      "Epoch 56: train_loss:1.30 train_accuracy:0.62 valid_loss:1.31 valid_accuracy:0.65 f1_train:0.54 f1_val:0.54 \n",
      "Epoch 57: train_loss:1.29 train_accuracy:0.66 valid_loss:1.28 valid_accuracy:0.67 f1_train:0.60 f1_val:0.59 \n",
      "Epoch 58: train_loss:1.29 train_accuracy:0.66 valid_loss:1.30 valid_accuracy:0.63 f1_train:0.58 f1_val:0.52 \n",
      "Epoch 59: train_loss:1.28 train_accuracy:0.69 valid_loss:1.31 valid_accuracy:0.63 f1_train:0.61 f1_val:0.57 \n",
      "Epoch 60: train_loss:1.30 train_accuracy:0.66 valid_loss:1.27 valid_accuracy:0.68 f1_train:0.57 f1_val:0.61 \n",
      "Epoch 61: train_loss:1.28 train_accuracy:0.64 valid_loss:1.29 valid_accuracy:0.68 f1_train:0.54 f1_val:0.60 \n",
      "Epoch 62: train_loss:1.27 train_accuracy:0.70 valid_loss:1.28 valid_accuracy:0.64 f1_train:0.63 f1_val:0.55 \n",
      "Epoch 63: train_loss:1.28 train_accuracy:0.68 valid_loss:1.27 valid_accuracy:0.70 f1_train:0.61 f1_val:0.64 \n",
      "Epoch 64: train_loss:1.26 train_accuracy:0.67 valid_loss:1.30 valid_accuracy:0.58 f1_train:0.57 f1_val:0.47 \n",
      "Epoch 65: train_loss:1.27 train_accuracy:0.69 valid_loss:1.29 valid_accuracy:0.68 f1_train:0.60 f1_val:0.60 \n",
      "Epoch 66: train_loss:1.26 train_accuracy:0.71 valid_loss:1.27 valid_accuracy:0.69 f1_train:0.64 f1_val:0.60 \n",
      "Epoch 67: train_loss:1.25 train_accuracy:0.73 valid_loss:1.29 valid_accuracy:0.63 f1_train:0.65 f1_val:0.56 \n",
      "Epoch 68: train_loss:1.30 train_accuracy:0.66 valid_loss:1.30 valid_accuracy:0.64 f1_train:0.58 f1_val:0.56 \n",
      "Epoch 69: train_loss:1.28 train_accuracy:0.67 valid_loss:1.26 valid_accuracy:0.67 f1_train:0.59 f1_val:0.59 \n",
      "Epoch 70: train_loss:1.25 train_accuracy:0.72 valid_loss:1.26 valid_accuracy:0.68 f1_train:0.64 f1_val:0.58 \n",
      "Epoch 71: train_loss:1.26 train_accuracy:0.68 valid_loss:1.27 valid_accuracy:0.68 f1_train:0.59 f1_val:0.60 \n",
      "Epoch 72: train_loss:1.25 train_accuracy:0.68 valid_loss:1.26 valid_accuracy:0.69 f1_train:0.58 f1_val:0.63 \n",
      "Epoch 73: train_loss:1.28 train_accuracy:0.67 valid_loss:1.27 valid_accuracy:0.66 f1_train:0.57 f1_val:0.57 \n",
      "Epoch 74: train_loss:1.27 train_accuracy:0.67 valid_loss:1.26 valid_accuracy:0.67 f1_train:0.56 f1_val:0.58 \n",
      "Epoch 75: train_loss:1.25 train_accuracy:0.73 valid_loss:1.26 valid_accuracy:0.65 f1_train:0.66 f1_val:0.54 \n"
     ]
    },
    {
     "name": "stdout",
     "output_type": "stream",
     "text": [
      "Epoch 76: train_loss:1.27 train_accuracy:0.66 valid_loss:1.26 valid_accuracy:0.69 f1_train:0.58 f1_val:0.60 \n",
      "Epoch 77: train_loss:1.26 train_accuracy:0.69 valid_loss:1.26 valid_accuracy:0.68 f1_train:0.60 f1_val:0.60 \n",
      "Epoch 78: train_loss:1.24 train_accuracy:0.71 valid_loss:1.27 valid_accuracy:0.67 f1_train:0.64 f1_val:0.58 \n",
      "Epoch 79: train_loss:1.27 train_accuracy:0.67 valid_loss:1.24 valid_accuracy:0.74 f1_train:0.58 f1_val:0.64 \n",
      "Epoch 80: train_loss:1.24 train_accuracy:0.70 valid_loss:1.26 valid_accuracy:0.68 f1_train:0.64 f1_val:0.58 \n",
      "Epoch 81: train_loss:1.25 train_accuracy:0.71 valid_loss:1.23 valid_accuracy:0.74 f1_train:0.62 f1_val:0.66 \n",
      "Epoch 82: train_loss:1.25 train_accuracy:0.70 valid_loss:1.24 valid_accuracy:0.71 f1_train:0.61 f1_val:0.62 \n",
      "Epoch 83: train_loss:1.24 train_accuracy:0.73 valid_loss:1.27 valid_accuracy:0.70 f1_train:0.65 f1_val:0.60 \n",
      "Epoch 84: train_loss:1.24 train_accuracy:0.71 valid_loss:1.26 valid_accuracy:0.68 f1_train:0.63 f1_val:0.60 \n",
      "Epoch 85: train_loss:1.24 train_accuracy:0.70 valid_loss:1.23 valid_accuracy:0.69 f1_train:0.61 f1_val:0.61 \n",
      "Epoch 86: train_loss:1.26 train_accuracy:0.72 valid_loss:1.25 valid_accuracy:0.71 f1_train:0.63 f1_val:0.62 \n",
      "Epoch 87: train_loss:1.23 train_accuracy:0.73 valid_loss:1.21 valid_accuracy:0.73 f1_train:0.65 f1_val:0.63 \n",
      "Epoch 88: train_loss:1.26 train_accuracy:0.68 valid_loss:1.25 valid_accuracy:0.72 f1_train:0.61 f1_val:0.63 \n",
      "Epoch 89: train_loss:1.24 train_accuracy:0.68 valid_loss:1.23 valid_accuracy:0.67 f1_train:0.58 f1_val:0.58 \n",
      "Epoch 90: train_loss:1.24 train_accuracy:0.70 valid_loss:1.25 valid_accuracy:0.69 f1_train:0.62 f1_val:0.62 \n",
      "Epoch 91: train_loss:1.23 train_accuracy:0.75 valid_loss:1.23 valid_accuracy:0.68 f1_train:0.67 f1_val:0.60 \n",
      "Epoch 92: train_loss:1.23 train_accuracy:0.73 valid_loss:1.23 valid_accuracy:0.77 f1_train:0.64 f1_val:0.71 \n",
      "Epoch 93: train_loss:1.25 train_accuracy:0.71 valid_loss:1.23 valid_accuracy:0.67 f1_train:0.62 f1_val:0.58 \n",
      "Epoch 94: train_loss:1.22 train_accuracy:0.72 valid_loss:1.23 valid_accuracy:0.70 f1_train:0.65 f1_val:0.65 \n",
      "Epoch 95: train_loss:1.26 train_accuracy:0.68 valid_loss:1.25 valid_accuracy:0.71 f1_train:0.60 f1_val:0.61 \n",
      "Epoch 96: train_loss:1.22 train_accuracy:0.74 valid_loss:1.22 valid_accuracy:0.69 f1_train:0.68 f1_val:0.66 \n",
      "Epoch 97: train_loss:1.23 train_accuracy:0.72 valid_loss:1.22 valid_accuracy:0.75 f1_train:0.64 f1_val:0.63 \n",
      "Epoch 98: train_loss:1.24 train_accuracy:0.68 valid_loss:1.22 valid_accuracy:0.73 f1_train:0.59 f1_val:0.66 \n",
      "Epoch 99: train_loss:1.22 train_accuracy:0.72 valid_loss:1.25 valid_accuracy:0.65 f1_train:0.63 f1_val:0.56 \n",
      "Epoch 100: train_loss:1.23 train_accuracy:0.73 valid_loss:1.23 valid_accuracy:0.67 f1_train:0.63 f1_val:0.63 \n",
      "Epoch 101: train_loss:1.24 train_accuracy:0.68 valid_loss:1.22 valid_accuracy:0.70 f1_train:0.60 f1_val:0.62 \n",
      "Epoch 102: train_loss:1.24 train_accuracy:0.67 valid_loss:1.24 valid_accuracy:0.69 f1_train:0.59 f1_val:0.59 \n",
      "Epoch 103: train_loss:1.23 train_accuracy:0.72 valid_loss:1.24 valid_accuracy:0.69 f1_train:0.62 f1_val:0.62 \n",
      "Epoch 104: train_loss:1.24 train_accuracy:0.70 valid_loss:1.24 valid_accuracy:0.71 f1_train:0.64 f1_val:0.60 \n",
      "Epoch 105: train_loss:1.25 train_accuracy:0.71 valid_loss:1.21 valid_accuracy:0.73 f1_train:0.64 f1_val:0.64 \n",
      "Epoch 106: train_loss:1.23 train_accuracy:0.70 valid_loss:1.24 valid_accuracy:0.73 f1_train:0.63 f1_val:0.65 \n",
      "Epoch 107: train_loss:1.23 train_accuracy:0.71 valid_loss:1.25 valid_accuracy:0.68 f1_train:0.62 f1_val:0.54 \n",
      "Epoch 108: train_loss:1.26 train_accuracy:0.65 valid_loss:1.21 valid_accuracy:0.76 f1_train:0.55 f1_val:0.70 \n",
      "Epoch 109: train_loss:1.21 train_accuracy:0.73 valid_loss:1.22 valid_accuracy:0.67 f1_train:0.65 f1_val:0.59 \n",
      "Epoch 110: train_loss:1.21 train_accuracy:0.75 valid_loss:1.23 valid_accuracy:0.76 f1_train:0.67 f1_val:0.69 \n",
      "Epoch 111: train_loss:1.23 train_accuracy:0.70 valid_loss:1.25 valid_accuracy:0.68 f1_train:0.59 f1_val:0.60 \n",
      "Epoch 112: train_loss:1.23 train_accuracy:0.71 valid_loss:1.23 valid_accuracy:0.70 f1_train:0.62 f1_val:0.61 \n",
      "Epoch 113: train_loss:1.23 train_accuracy:0.71 valid_loss:1.20 valid_accuracy:0.76 f1_train:0.64 f1_val:0.70 \n",
      "Epoch 114: train_loss:1.22 train_accuracy:0.70 valid_loss:1.22 valid_accuracy:0.73 f1_train:0.61 f1_val:0.62 \n",
      "Epoch 115: train_loss:1.23 train_accuracy:0.69 valid_loss:1.24 valid_accuracy:0.68 f1_train:0.61 f1_val:0.58 \n",
      "Epoch 116: train_loss:1.23 train_accuracy:0.68 valid_loss:1.22 valid_accuracy:0.68 f1_train:0.60 f1_val:0.58 \n",
      "Epoch 117: train_loss:1.21 train_accuracy:0.75 valid_loss:1.20 valid_accuracy:0.76 f1_train:0.65 f1_val:0.68 \n",
      "Epoch 118: train_loss:1.23 train_accuracy:0.73 valid_loss:1.20 valid_accuracy:0.76 f1_train:0.64 f1_val:0.70 \n",
      "Epoch 119: train_loss:1.25 train_accuracy:0.67 valid_loss:1.22 valid_accuracy:0.75 f1_train:0.60 f1_val:0.67 \n",
      "Epoch 120: train_loss:1.22 train_accuracy:0.70 valid_loss:1.23 valid_accuracy:0.69 f1_train:0.64 f1_val:0.58 \n",
      "Epoch 121: train_loss:1.22 train_accuracy:0.72 valid_loss:1.22 valid_accuracy:0.70 f1_train:0.63 f1_val:0.62 \n",
      "Epoch 122: train_loss:1.22 train_accuracy:0.73 valid_loss:1.19 valid_accuracy:0.76 f1_train:0.65 f1_val:0.72 \n",
      "Epoch 123: train_loss:1.24 train_accuracy:0.67 valid_loss:1.23 valid_accuracy:0.71 f1_train:0.59 f1_val:0.61 \n",
      "Epoch 124: train_loss:1.22 train_accuracy:0.71 valid_loss:1.22 valid_accuracy:0.75 f1_train:0.64 f1_val:0.67 \n",
      "Epoch 125: train_loss:1.21 train_accuracy:0.72 valid_loss:1.23 valid_accuracy:0.68 f1_train:0.63 f1_val:0.60 \n",
      "Epoch 126: train_loss:1.22 train_accuracy:0.69 valid_loss:1.21 valid_accuracy:0.71 f1_train:0.59 f1_val:0.63 \n",
      "Epoch 127: train_loss:1.21 train_accuracy:0.70 valid_loss:1.23 valid_accuracy:0.68 f1_train:0.61 f1_val:0.60 \n",
      "Epoch 128: train_loss:1.22 train_accuracy:0.73 valid_loss:1.23 valid_accuracy:0.70 f1_train:0.66 f1_val:0.63 \n",
      "Epoch 129: train_loss:1.21 train_accuracy:0.73 valid_loss:1.22 valid_accuracy:0.66 f1_train:0.67 f1_val:0.57 \n",
      "Epoch 130: train_loss:1.22 train_accuracy:0.70 valid_loss:1.22 valid_accuracy:0.72 f1_train:0.62 f1_val:0.64 \n",
      "Epoch 131: train_loss:1.21 train_accuracy:0.74 valid_loss:1.22 valid_accuracy:0.71 f1_train:0.68 f1_val:0.62 \n",
      "Epoch 132: train_loss:1.22 train_accuracy:0.70 valid_loss:1.20 valid_accuracy:0.74 f1_train:0.61 f1_val:0.64 \n",
      "Epoch 133: train_loss:1.22 train_accuracy:0.72 valid_loss:1.20 valid_accuracy:0.69 f1_train:0.65 f1_val:0.57 \n",
      "Epoch 134: train_loss:1.21 train_accuracy:0.72 valid_loss:1.24 valid_accuracy:0.66 f1_train:0.64 f1_val:0.57 \n",
      "Epoch 135: train_loss:1.22 train_accuracy:0.73 valid_loss:1.23 valid_accuracy:0.71 f1_train:0.63 f1_val:0.64 \n",
      "Epoch 136: train_loss:1.22 train_accuracy:0.71 valid_loss:1.22 valid_accuracy:0.69 f1_train:0.63 f1_val:0.62 \n",
      "Epoch 137: train_loss:1.21 train_accuracy:0.75 valid_loss:1.21 valid_accuracy:0.75 f1_train:0.67 f1_val:0.65 \n",
      "Epoch 138: train_loss:1.22 train_accuracy:0.71 valid_loss:1.22 valid_accuracy:0.67 f1_train:0.62 f1_val:0.56 \n",
      "Epoch 139: train_loss:1.21 train_accuracy:0.75 valid_loss:1.24 valid_accuracy:0.69 f1_train:0.68 f1_val:0.62 \n",
      "Epoch 140: train_loss:1.21 train_accuracy:0.72 valid_loss:1.22 valid_accuracy:0.69 f1_train:0.62 f1_val:0.61 \n",
      "Epoch 141: train_loss:1.22 train_accuracy:0.69 valid_loss:1.23 valid_accuracy:0.71 f1_train:0.61 f1_val:0.66 \n",
      "Epoch 142: train_loss:1.20 train_accuracy:0.72 valid_loss:1.22 valid_accuracy:0.75 f1_train:0.64 f1_val:0.68 \n",
      "Epoch 143: train_loss:1.21 train_accuracy:0.69 valid_loss:1.21 valid_accuracy:0.73 f1_train:0.60 f1_val:0.66 \n",
      "Epoch 144: train_loss:1.23 train_accuracy:0.71 valid_loss:1.20 valid_accuracy:0.72 f1_train:0.60 f1_val:0.62 \n",
      "Epoch 145: train_loss:1.22 train_accuracy:0.72 valid_loss:1.20 valid_accuracy:0.70 f1_train:0.64 f1_val:0.64 \n",
      "Epoch 146: train_loss:1.22 train_accuracy:0.71 valid_loss:1.20 valid_accuracy:0.75 f1_train:0.64 f1_val:0.67 \n",
      "Epoch 147: train_loss:1.22 train_accuracy:0.74 valid_loss:1.22 valid_accuracy:0.68 f1_train:0.66 f1_val:0.60 \n",
      "Epoch 148: train_loss:1.23 train_accuracy:0.75 valid_loss:1.21 valid_accuracy:0.76 f1_train:0.67 f1_val:0.68 \n",
      "Epoch 149: train_loss:1.21 train_accuracy:0.74 valid_loss:1.23 valid_accuracy:0.66 f1_train:0.65 f1_val:0.57 \n",
      "Epoch 150: train_loss:1.23 train_accuracy:0.70 valid_loss:1.19 valid_accuracy:0.75 f1_train:0.63 f1_val:0.69 \n"
     ]
    },
    {
     "name": "stdout",
     "output_type": "stream",
     "text": [
      "Epoch 151: train_loss:1.23 train_accuracy:0.71 valid_loss:1.21 valid_accuracy:0.74 f1_train:0.64 f1_val:0.64 \n",
      "Epoch 152: train_loss:1.21 train_accuracy:0.74 valid_loss:1.22 valid_accuracy:0.75 f1_train:0.65 f1_val:0.65 \n",
      "Epoch 153: train_loss:1.22 train_accuracy:0.69 valid_loss:1.19 valid_accuracy:0.77 f1_train:0.61 f1_val:0.68 \n",
      "Epoch 154: train_loss:1.21 train_accuracy:0.75 valid_loss:1.21 valid_accuracy:0.77 f1_train:0.66 f1_val:0.72 \n",
      "Epoch 155: train_loss:1.22 train_accuracy:0.72 valid_loss:1.21 valid_accuracy:0.72 f1_train:0.65 f1_val:0.63 \n",
      "Epoch 156: train_loss:1.21 train_accuracy:0.74 valid_loss:1.23 valid_accuracy:0.71 f1_train:0.68 f1_val:0.65 \n",
      "Epoch 157: train_loss:1.21 train_accuracy:0.73 valid_loss:1.21 valid_accuracy:0.72 f1_train:0.64 f1_val:0.64 \n",
      "Epoch 158: train_loss:1.20 train_accuracy:0.75 valid_loss:1.21 valid_accuracy:0.79 f1_train:0.69 f1_val:0.72 \n",
      "Epoch 159: train_loss:1.21 train_accuracy:0.75 valid_loss:1.23 valid_accuracy:0.64 f1_train:0.67 f1_val:0.57 \n",
      "Epoch 160: train_loss:1.22 train_accuracy:0.74 valid_loss:1.22 valid_accuracy:0.70 f1_train:0.66 f1_val:0.63 \n",
      "Epoch 161: train_loss:1.23 train_accuracy:0.70 valid_loss:1.25 valid_accuracy:0.72 f1_train:0.62 f1_val:0.63 \n",
      "Epoch 162: train_loss:1.23 train_accuracy:0.70 valid_loss:1.21 valid_accuracy:0.76 f1_train:0.65 f1_val:0.71 \n",
      "Epoch 163: train_loss:1.22 train_accuracy:0.72 valid_loss:1.22 valid_accuracy:0.70 f1_train:0.64 f1_val:0.65 \n",
      "Epoch 164: train_loss:1.24 train_accuracy:0.70 valid_loss:1.21 valid_accuracy:0.78 f1_train:0.64 f1_val:0.71 \n",
      "Epoch 165: train_loss:1.21 train_accuracy:0.73 valid_loss:1.21 valid_accuracy:0.70 f1_train:0.65 f1_val:0.60 \n",
      "Epoch 166: train_loss:1.21 train_accuracy:0.73 valid_loss:1.23 valid_accuracy:0.71 f1_train:0.66 f1_val:0.68 \n",
      "Epoch 167: train_loss:1.21 train_accuracy:0.75 valid_loss:1.20 valid_accuracy:0.76 f1_train:0.67 f1_val:0.70 \n",
      "Epoch 168: train_loss:1.22 train_accuracy:0.73 valid_loss:1.20 valid_accuracy:0.75 f1_train:0.66 f1_val:0.69 \n",
      "Epoch 169: train_loss:1.22 train_accuracy:0.71 valid_loss:1.19 valid_accuracy:0.78 f1_train:0.63 f1_val:0.72 \n",
      "Epoch 170: train_loss:1.21 train_accuracy:0.74 valid_loss:1.24 valid_accuracy:0.69 f1_train:0.65 f1_val:0.58 \n",
      "Epoch 171: train_loss:1.23 train_accuracy:0.72 valid_loss:1.22 valid_accuracy:0.70 f1_train:0.65 f1_val:0.65 \n",
      "Epoch 172: train_loss:1.23 train_accuracy:0.68 valid_loss:1.19 valid_accuracy:0.75 f1_train:0.59 f1_val:0.67 \n",
      "Epoch 173: train_loss:1.22 train_accuracy:0.71 valid_loss:1.23 valid_accuracy:0.68 f1_train:0.64 f1_val:0.60 \n",
      "Epoch 174: train_loss:1.23 train_accuracy:0.70 valid_loss:1.20 valid_accuracy:0.73 f1_train:0.63 f1_val:0.64 \n",
      "Epoch 175: train_loss:1.22 train_accuracy:0.68 valid_loss:1.23 valid_accuracy:0.69 f1_train:0.59 f1_val:0.60 \n",
      "Epoch 176: train_loss:1.21 train_accuracy:0.70 valid_loss:1.22 valid_accuracy:0.71 f1_train:0.61 f1_val:0.65 \n",
      "Epoch 177: train_loss:1.22 train_accuracy:0.70 valid_loss:1.23 valid_accuracy:0.61 f1_train:0.60 f1_val:0.51 \n",
      "Epoch 178: train_loss:1.23 train_accuracy:0.71 valid_loss:1.22 valid_accuracy:0.72 f1_train:0.64 f1_val:0.63 \n",
      "Epoch 179: train_loss:1.22 train_accuracy:0.71 valid_loss:1.22 valid_accuracy:0.70 f1_train:0.61 f1_val:0.63 \n",
      "Epoch 180: train_loss:1.22 train_accuracy:0.70 valid_loss:1.22 valid_accuracy:0.73 f1_train:0.64 f1_val:0.66 \n",
      "Epoch 181: train_loss:1.20 train_accuracy:0.72 valid_loss:1.20 valid_accuracy:0.75 f1_train:0.62 f1_val:0.68 \n",
      "Epoch 182: train_loss:1.22 train_accuracy:0.71 valid_loss:1.22 valid_accuracy:0.69 f1_train:0.63 f1_val:0.62 \n",
      "Epoch 183: train_loss:1.22 train_accuracy:0.69 valid_loss:1.22 valid_accuracy:0.69 f1_train:0.59 f1_val:0.62 \n",
      "Epoch 184: train_loss:1.21 train_accuracy:0.72 valid_loss:1.20 valid_accuracy:0.74 f1_train:0.65 f1_val:0.67 \n",
      "Epoch 185: train_loss:1.21 train_accuracy:0.70 valid_loss:1.20 valid_accuracy:0.73 f1_train:0.64 f1_val:0.64 \n",
      "Epoch 186: train_loss:1.20 train_accuracy:0.70 valid_loss:1.22 valid_accuracy:0.70 f1_train:0.62 f1_val:0.62 \n",
      "Epoch 187: train_loss:1.22 train_accuracy:0.75 valid_loss:1.23 valid_accuracy:0.75 f1_train:0.67 f1_val:0.67 \n",
      "Epoch 188: train_loss:1.19 train_accuracy:0.75 valid_loss:1.19 valid_accuracy:0.74 f1_train:0.66 f1_val:0.65 \n",
      "Epoch 189: train_loss:1.19 train_accuracy:0.74 valid_loss:1.20 valid_accuracy:0.75 f1_train:0.66 f1_val:0.67 \n",
      "Epoch 190: train_loss:1.23 train_accuracy:0.69 valid_loss:1.21 valid_accuracy:0.73 f1_train:0.61 f1_val:0.64 \n",
      "Epoch 191: train_loss:1.21 train_accuracy:0.71 valid_loss:1.22 valid_accuracy:0.69 f1_train:0.65 f1_val:0.60 \n",
      "Epoch 192: train_loss:1.22 train_accuracy:0.71 valid_loss:1.22 valid_accuracy:0.69 f1_train:0.64 f1_val:0.61 \n",
      "Epoch 193: train_loss:1.20 train_accuracy:0.73 valid_loss:1.23 valid_accuracy:0.75 f1_train:0.65 f1_val:0.66 \n",
      "Epoch 194: train_loss:1.22 train_accuracy:0.69 valid_loss:1.18 valid_accuracy:0.80 f1_train:0.61 f1_val:0.72 \n",
      "Epoch 195: train_loss:1.22 train_accuracy:0.69 valid_loss:1.23 valid_accuracy:0.67 f1_train:0.62 f1_val:0.59 \n",
      "Epoch 196: train_loss:1.22 train_accuracy:0.71 valid_loss:1.20 valid_accuracy:0.75 f1_train:0.62 f1_val:0.65 \n",
      "Epoch 197: train_loss:1.20 train_accuracy:0.75 valid_loss:1.22 valid_accuracy:0.69 f1_train:0.67 f1_val:0.61 \n",
      "Epoch 198: train_loss:1.21 train_accuracy:0.75 valid_loss:1.23 valid_accuracy:0.64 f1_train:0.68 f1_val:0.56 \n",
      "Epoch 199: train_loss:1.19 train_accuracy:0.76 valid_loss:1.20 valid_accuracy:0.70 f1_train:0.66 f1_val:0.62 \n"
     ]
    }
   ],
   "source": [
    "train_loss,train_accuracy=[],[]\n",
    "val_loss,val_accuracy=[],[]\n",
    "test_loss,test_accuracy=[],[]\n",
    "\n",
    "\n",
    "for e in range(total_epochs):\n",
    "    ############################### Training Step ##########################################\n",
    "    total_c_loss, total_accuracy, t_f1_Score = run_epoch(total_train_batches,'train')\n",
    "    train_loss.append(total_c_loss)\n",
    "    train_accuracy.append(total_accuracy)\n",
    "    \n",
    "    ################################# Validation Step #######################################\n",
    "    total_val_c_loss, total_val_accuracy, v_f1_Score = run_epoch(total_val_batches, 'val')\n",
    "    val_loss.append(total_val_c_loss)\n",
    "    val_accuracy.append(total_val_accuracy)\n",
    "    print(\"Epoch {}: train_loss:{:.2f} train_accuracy:{:.2f} valid_loss:{:.2f} valid_accuracy:{:.2f} f1_train:{:.2f} f1_val:{:.2f} \".\n",
    "          format(e, total_c_loss, total_accuracy, total_val_c_loss, total_val_accuracy, t_f1_Score, v_f1_Score))"
   ]
  },
  {
   "cell_type": "markdown",
   "metadata": {},
   "source": [
    "Now Let's obtain our test accuracy by running the following code block:"
   ]
  },
  {
   "cell_type": "code",
   "execution_count": null,
   "metadata": {},
   "outputs": [
    {
     "name": "stderr",
     "output_type": "stream",
     "text": [
      "/opt/anaconda3/envs/project09/lib/python3.6/site-packages/ipykernel_launcher.py:60: UserWarning: To copy construct from a tensor, it is recommended to use sourceTensor.clone().detach() or sourceTensor.clone().detach().requires_grad_(True), rather than torch.tensor(sourceTensor).\n",
      "/opt/anaconda3/envs/project09/lib/python3.6/site-packages/sklearn/metrics/classification.py:1135: UndefinedMetricWarning: F-score is ill-defined and being set to 0.0 in labels with no predicted samples.\n",
      "  'precision', 'predicted', average, warn_for)\n",
      "/opt/anaconda3/envs/project09/lib/python3.6/site-packages/sklearn/metrics/classification.py:1137: UndefinedMetricWarning: F-score is ill-defined and being set to 0.0 in labels with no true samples.\n",
      "  'recall', 'true', average, warn_for)\n"
     ]
    },
    {
     "name": "stdout",
     "output_type": "stream",
     "text": [
      "test_accuracy:72.0%\n",
      "F1 Score 0.6592714285714285\n"
     ]
    }
   ],
   "source": [
    "total_test_c_loss, total_test_accuracy, f1 = run_epoch(total_test_batches,'test')\n",
    "print(\"test_accuracy:{}%\".format(total_test_accuracy*100))\n",
    "print (\"F1 Score {}\".format(f1))\n"
   ]
  },
  {
   "cell_type": "markdown",
   "metadata": {},
   "source": [
    "#### Step 10: Let's visualize our results "
   ]
  },
  {
   "cell_type": "code",
   "execution_count": null,
   "metadata": {
    "collapsed": true
   },
   "outputs": [],
   "source": [
    "def plot_loss(train,val,name1=\"train_loss\",name2=\"val_loss\",title=\"\"):\n",
    "    plt.title(title)\n",
    "    plt.plot(train, label=name1)\n",
    "    plt.plot(val, label=name2)\n",
    "    plt.legend()\n",
    "\n",
    "plot_loss(train_loss,val_loss,\"train_loss\",\"val_loss\",\"Loss Graph\")"
   ]
  },
  {
   "cell_type": "code",
   "execution_count": null,
   "metadata": {
    "collapsed": true
   },
   "outputs": [],
   "source": [
    "plot_loss(train_accuracy,val_accuracy,\"train_accuracy\",\"val_accuracy\",\"Accuracy Graph\")"
   ]
  }
 ],
 "metadata": {
  "kernelspec": {
   "display_name": "Python 3",
   "language": "python",
   "name": "python3"
  },
  "language_info": {
   "codemirror_mode": {
    "name": "ipython",
    "version": 3
   },
   "file_extension": ".py",
   "mimetype": "text/x-python",
   "name": "python",
   "nbconvert_exporter": "python",
   "pygments_lexer": "ipython3",
   "version": "3.6.3"
  }
 },
 "nbformat": 4,
 "nbformat_minor": 2
}
