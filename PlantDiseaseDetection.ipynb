{
 "cells": [
  {
   "cell_type": "markdown",
   "metadata": {},
   "source": [
    "# Sugarcane disease classification"
   ]
  },
  {
   "cell_type": "markdown",
   "metadata": {},
   "source": [
    "This Repository consists of using Transfer Learning Method to detect types of Disease Sugarcane Plant can have.\n",
    "Disease have following categories:\n",
    "1. grassy shoot\n",
    "2. leaf spot\n",
    "3. nitrogen\n",
    "4. orange rust\n",
    "5. pyrilla\n",
    "6. redrot\n",
    "7. smut\n",
    "8. wholly aphid\n",
    "9. wilt\n",
    "10. yellow leaf disease\n",
    "11. leaf scald"
   ]
  },
  {
   "cell_type": "code",
   "execution_count": 27,
   "metadata": {},
   "outputs": [],
   "source": [
    "import numpy as np\n",
    "import os\n",
    "import shutil\n",
    "from keras.preprocessing import image\n",
    "from sklearn.model_selection import train_test_split\n",
    "from keras.applications.vgg16 import VGG16\n",
    "from keras.applications import xception\n",
    "from keras.applications import inception_v3\n",
    "from keras.applications.vgg16 import preprocess_input\n",
    "from sklearn.linear_model import LogisticRegression\n",
    "from sklearn.metrics import log_loss, accuracy_score"
   ]
  },
  {
   "cell_type": "code",
   "execution_count": 28,
   "metadata": {},
   "outputs": [],
   "source": [
    "INPUT_SIZE=224\n",
    "POOLING='avg'"
   ]
  },
  {
   "cell_type": "markdown",
   "metadata": {},
   "source": [
    "#### Read Images, and Load them as Numpy array"
   ]
  },
  {
   "cell_type": "code",
   "execution_count": 29,
   "metadata": {},
   "outputs": [],
   "source": [
    "def extract_features(path):\n",
    "    directory_lists=os.listdir(path)\n",
    "    X=[]\n",
    "    Y=[]\n",
    "    count=0\n",
    "    if ('.DS_Store' in directory_lists):\n",
    "            directory_lists.remove('.DS_Store')\n",
    "    for d in directory_lists:\n",
    "        nest=os.listdir(path+\"/\"+d)\n",
    "        if ('.DS_Store' in nest):\n",
    "            nest.remove('.DS_Store')\n",
    "        for f in nest:\n",
    "            img = image.load_img(path+\"/\"+d+\"/\"+f, target_size=(224, 224))\n",
    "            img_data = image.img_to_array(img)\n",
    "            img_data = preprocess_input(img_data)\n",
    "            X.append(img_data)\n",
    "            Y.append(count)\n",
    "        count+=1\n",
    "    X=np.array(X)\n",
    "    y=np.array(Y)\n",
    "    X_train, X_test, y_train, y_test = train_test_split(X, y, test_size=0.30, random_state=42)\n",
    "\n",
    "    return X_train, X_test, y_train, y_test "
   ]
  },
  {
   "cell_type": "markdown",
   "metadata": {},
   "source": [
    "#### We are using Transfer Learning using features extracted from VGG16, and Xception model trained on Image Net, we are just extracting BottleNeck Features, as we just want to learn generic features."
   ]
  },
  {
   "cell_type": "code",
   "execution_count": 25,
   "metadata": {},
   "outputs": [],
   "source": [
    "def forward_pass_Resnt():\n",
    "        X_train, X_test, y_train, y_test = extract_features(\"./Data/\")\n",
    "        \n",
    "        vgg_bottleneck = VGG16(weights='imagenet', include_top=False, pooling=POOLING)\n",
    "        train_vgg_bf = vgg_bottleneck.predict(X_train, batch_size=32, verbose=1)\n",
    "        valid_vgg_bf = vgg_bottleneck.predict(X_test, batch_size=32, verbose=1)\n",
    "        \n",
    "        xception_bottleneck = xception.Xception(weights='imagenet', include_top=False, pooling=POOLING)\n",
    "        train_x_bf = xception_bottleneck.predict(X_train, batch_size=32, verbose=1)\n",
    "        valid_x_bf = xception_bottleneck.predict(X_test, batch_size=32, verbose=1)\n",
    "        \n",
    "        X = np.hstack([train_x_bf, train_vgg_bf])\n",
    "        V = np.hstack([valid_x_bf, valid_vgg_bf])\n",
    "        \n",
    "        logreg = LogisticRegression(multi_class='multinomial', solver='lbfgs', random_state=147)\n",
    "        logreg.fit(X, y_train)\n",
    "        valid_probs = logreg.predict_proba(V)\n",
    "        valid_preds = logreg.predict(V)\n",
    "        print (\"validation probability: {}\".format(valid_probs))\n",
    "        print (\"validation_predictions: {}\".format(valid_preds))\n",
    "        print (\"Log Loss of Test Set:{}\".format(log_loss(y_test, valid_probs)))\n",
    "        print (\"Accuracy:{}\".format(accuracy_score(y_test, valid_preds)))"
   ]
  },
  {
   "cell_type": "code",
   "execution_count": 26,
   "metadata": {},
   "outputs": [
    {
     "name": "stdout",
     "output_type": "stream",
     "text": [
      "WARNING:tensorflow:From /Users/sjadon/anaconda3/envs/mysite/lib/python3.6/site-packages/tensorflow/python/framework/op_def_library.py:263: colocate_with (from tensorflow.python.framework.ops) is deprecated and will be removed in a future version.\n",
      "Instructions for updating:\n",
      "Colocations handled automatically by placer.\n",
      "1310/1310 [==============================] - 224s 171ms/step\n",
      "562/562 [==============================] - 95s 170ms/step\n",
      "1310/1310 [==============================] - 121s 93ms/step\n",
      "562/562 [==============================] - 52s 92ms/step\n",
      "validation probability: [[8.15260166e-10 4.05480411e-05 2.07724944e-06 ... 2.12100142e-06\n",
      "  6.96000480e-07 1.67403397e-10]\n",
      " [5.61651084e-10 5.12826632e-04 2.41153202e-06 ... 1.52632636e-07\n",
      "  8.68278717e-08 3.07491540e-07]\n",
      " [1.89211318e-06 6.53331336e-01 1.81652320e-09 ... 1.47400508e-09\n",
      "  2.89315014e-04 3.98302790e-07]\n",
      " ...\n",
      " [5.38668248e-05 3.01452321e-05 1.54645021e-05 ... 1.08632960e-06\n",
      "  3.57020128e-03 2.68380120e-05]\n",
      " [8.09151759e-11 3.79274751e-04 6.03157964e-08 ... 1.92158131e-11\n",
      "  4.56226225e-09 2.70452098e-10]\n",
      " [8.91014809e-10 9.99999999e-01 6.26224869e-15 ... 2.34245954e-18\n",
      "  6.41301279e-13 4.27816778e-22]]\n",
      "validation_predictions: [ 6  4  1  1  1  3  1  1  1  1  2  3  4  1  5  1  4  1  3  3  1  1  5  2\n",
      "  1  2  4  1  5  3  2  0  8  1  3  3  4 10  4  4  2  0  1  3  4  1  3  2\n",
      "  5  4  8  5  1  3  7  1  4  2  3  0  4  1  4  5  1  0  2  1  4  4  5  7\n",
      "  5  1  3  0  3  4  2  9  5  2  5  4  1  3  3  2  2  1  2  2  1  3  7  4\n",
      "  1  1  0  1  1  1  3  7  3  4  1  1  2  4  1  4  2  4  5  3  2  1  4  6\n",
      "  3  0  3  3  5  1  0  5  1  4  5  5  1  3  1  4  3  8  5  1  0  1  0  6\n",
      "  1  5  2  4  2  6  9  1  5  9  4  4  2  1  2  3  2  2  0  2  2  5  1  2\n",
      "  1  3  9  5  3  0  3  1  2  5  3  4  0  4  1  3  0  4  0  2  4  1  0  1\n",
      "  4  3  5  4  1  4  3  2  5  4  1  1  2  9  2  0  0  5  3  0  1  9  1  0\n",
      "  0  1  2  3  4  2  2  1  4  1  4  0  2  2  2  4  8  1  0  8  5  0  1  1\n",
      "  2  1  4 10  1 10  5  2  0  1  5  4  4  1  5  1  2  4  4  1  8  0  0  4\n",
      "  5  8  3  1  5  0  0  1  2  4  0  5  4  1 10  2  5  4  2  6  9  5  0  5\n",
      "  5  1  5  1  5  2  1  1  5  5  4  1  1  0  3  2  2  6  4  8  5 10  4  6\n",
      "  1  5  9  6  5  1  2  2  6  4  3  1  4  1  7  2  2  3  1  9  2  2  1  0\n",
      "  6  1  0  4  3  7  1  4  4  1  1  2  6  2  4  5  1  2 10  2  5  1  1  3\n",
      "  5  2  4  0  5  2  7  1  1  1  3  1  1  0  2  1  4  3  2  5  3  4  2  3\n",
      "  2  4  4  1 10  4  3  5  1  1  1  4  2  4  2  4  2  2  1  1  1  0  1  1\n",
      "  2  1  7  1  5  3  9  4  3  4  0  2  4  1  2  2  0  2  1  2  6  1  2  2\n",
      "  5  8  2  4  1  1  0  1  3  4  2  4  2  9  2  1  3  1  1  2  3  2  5  4\n",
      "  2  4  2  3  6  5  8  4  0  2  4  4  2  2  0  0  1  4  0  0  2  2  0  2\n",
      " 10  2  3  3  1  6  1  3  4  0  4  3  4  3  4  3  1  1  2  3  2  3  2  2\n",
      "  4 10  2  2  5  3  2  4  2  0  2 10  1  1  5  5  4  4  2  0  1  3  2  2\n",
      "  2  4  3  5  3  2  1  5  2  2  5  5  3  5  4  2  4  3  3  3  4  4  2  1\n",
      "  4  1  4  1  4  1  1  7  4  1]\n",
      "Log Loss of Test Set:0.130515509819066\n",
      "Accuracy:0.9555160142348754\n"
     ]
    },
    {
     "name": "stderr",
     "output_type": "stream",
     "text": [
      "/Users/sjadon/anaconda3/envs/mysite/lib/python3.6/site-packages/sklearn/linear_model/logistic.py:758: ConvergenceWarning: lbfgs failed to converge. Increase the number of iterations.\n",
      "  \"of iterations.\", ConvergenceWarning)\n"
     ]
    }
   ],
   "source": [
    "forward_pass_Resnt()"
   ]
  },
  {
   "cell_type": "code",
   "execution_count": null,
   "metadata": {},
   "outputs": [],
   "source": []
  },
  {
   "cell_type": "code",
   "execution_count": null,
   "metadata": {},
   "outputs": [],
   "source": []
  }
 ],
 "metadata": {
  "kernelspec": {
   "display_name": "Python 3",
   "language": "python",
   "name": "python3"
  },
  "language_info": {
   "codemirror_mode": {
    "name": "ipython",
    "version": 3
   },
   "file_extension": ".py",
   "mimetype": "text/x-python",
   "name": "python",
   "nbconvert_exporter": "python",
   "pygments_lexer": "ipython3",
   "version": "3.6.8"
  }
 },
 "nbformat": 4,
 "nbformat_minor": 2
}
